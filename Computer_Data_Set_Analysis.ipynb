{
  "nbformat": 4,
  "nbformat_minor": 0,
  "metadata": {
    "colab": {
      "provenance": [],
      "authorship_tag": "ABX9TyP+z8FKlPoUyMheZiInA9Lw",
      "include_colab_link": true
    },
    "kernelspec": {
      "name": "python3",
      "display_name": "Python 3"
    },
    "language_info": {
      "name": "python"
    }
  },
  "cells": [
    {
      "cell_type": "markdown",
      "metadata": {
        "id": "view-in-github",
        "colab_type": "text"
      },
      "source": [
        "<a href=\"https://colab.research.google.com/github/tpenanen/Laptop-Price-Project/blob/main/Computer_Data_Set_Analysis.ipynb\" target=\"_parent\"><img src=\"https://colab.research.google.com/assets/colab-badge.svg\" alt=\"Open In Colab\"/></a>"
      ]
    },
    {
      "cell_type": "markdown",
      "source": [
        "Group Names: Yasseen, Aditya, Manbhav, Tanmay"
      ],
      "metadata": {
        "id": "PvQVuGEBzTag"
      }
    },
    {
      "cell_type": "markdown",
      "source": [
        "For our project, we have decided to use the \"Laptop Prices\" dataset. This dataset describes specific details about laptops on the current market such as their brands, operating systems, specifications, as well as their price (In Euros originally until we added a USD column). For this data, we are studying and trying to predict the pricing of the laptop by using the main features of specs (just a generalized term that describes the overall specs of the computer) as well as company in order to see who charges a specific value based on components so we can properly predict the future pricing of any new laptops that come from the company."
      ],
      "metadata": {
        "id": "9RHLL-oYphD-"
      }
    },
    {
      "cell_type": "markdown",
      "source": [
        "UPDATE: We are currently trying to figure out how to encode our categorical features so we can use a correlation matrix in order to see how corrrelated each component is to price."
      ],
      "metadata": {
        "id": "Ghr84U9fu9gD"
      }
    },
    {
      "cell_type": "code",
      "execution_count": 75,
      "metadata": {
        "id": "5QgqUAitEsgw",
        "colab": {
          "base_uri": "https://localhost:8080/",
          "height": 206
        },
        "outputId": "4fa8d963-9f90-4791-d26b-841ba819e1dc"
      },
      "outputs": [
        {
          "output_type": "execute_result",
          "data": {
            "text/plain": [
              "   laptop_ID Company          Product   TypeName  Inches  \\\n",
              "0          6    Acer         Aspire 3   Notebook    15.6   \n",
              "1         10    Acer          Swift 3  Ultrabook    14.0   \n",
              "2         37    Acer         Aspire 3   Notebook    15.6   \n",
              "3         44    Acer  Aspire A515-51G   Notebook    15.6   \n",
              "4         52    Acer  Aspire A515-51G   Notebook    15.6   \n",
              "\n",
              "              ScreenResolution                         Cpu  Ram     Memory  \\\n",
              "0                     1366x768     AMD A9-Series 9420 3GHz  4GB  500GB HDD   \n",
              "1  IPS Panel Full HD 1920x1080  Intel Core i5 8250U 1.6GHz  8GB  256GB SSD   \n",
              "2                     1366x768  Intel Core i3 7130U 2.7GHz  4GB    1TB HDD   \n",
              "3  IPS Panel Full HD 1920x1080  Intel Core i5 8250U 1.6GHz  4GB  256GB SSD   \n",
              "4  IPS Panel Full HD 1920x1080  Intel Core i7 8550U 1.8GHz  8GB  256GB SSD   \n",
              "\n",
              "                      Gpu       OpSys Weight  Price_euros  Price_usd  \n",
              "0           AMD Radeon R5  Windows 10  2.1kg        400.0   436.7600  \n",
              "1  Intel UHD Graphics 620  Windows 10  1.6kg        770.0   840.7630  \n",
              "2   Intel HD Graphics 620       Linux  2.1kg        367.0   400.7273  \n",
              "3  Intel UHD Graphics 620  Windows 10  2.2kg        682.0   744.6758  \n",
              "4    Nvidia GeForce MX150  Windows 10  2.2kg        841.0   918.2879  "
            ],
            "text/html": [
              "\n",
              "  <div id=\"df-adef5c98-745a-4e62-b393-c17ab6c14ba4\" class=\"colab-df-container\">\n",
              "    <div>\n",
              "<style scoped>\n",
              "    .dataframe tbody tr th:only-of-type {\n",
              "        vertical-align: middle;\n",
              "    }\n",
              "\n",
              "    .dataframe tbody tr th {\n",
              "        vertical-align: top;\n",
              "    }\n",
              "\n",
              "    .dataframe thead th {\n",
              "        text-align: right;\n",
              "    }\n",
              "</style>\n",
              "<table border=\"1\" class=\"dataframe\">\n",
              "  <thead>\n",
              "    <tr style=\"text-align: right;\">\n",
              "      <th></th>\n",
              "      <th>laptop_ID</th>\n",
              "      <th>Company</th>\n",
              "      <th>Product</th>\n",
              "      <th>TypeName</th>\n",
              "      <th>Inches</th>\n",
              "      <th>ScreenResolution</th>\n",
              "      <th>Cpu</th>\n",
              "      <th>Ram</th>\n",
              "      <th>Memory</th>\n",
              "      <th>Gpu</th>\n",
              "      <th>OpSys</th>\n",
              "      <th>Weight</th>\n",
              "      <th>Price_euros</th>\n",
              "      <th>Price_usd</th>\n",
              "    </tr>\n",
              "  </thead>\n",
              "  <tbody>\n",
              "    <tr>\n",
              "      <th>0</th>\n",
              "      <td>6</td>\n",
              "      <td>Acer</td>\n",
              "      <td>Aspire 3</td>\n",
              "      <td>Notebook</td>\n",
              "      <td>15.6</td>\n",
              "      <td>1366x768</td>\n",
              "      <td>AMD A9-Series 9420 3GHz</td>\n",
              "      <td>4GB</td>\n",
              "      <td>500GB HDD</td>\n",
              "      <td>AMD Radeon R5</td>\n",
              "      <td>Windows 10</td>\n",
              "      <td>2.1kg</td>\n",
              "      <td>400.0</td>\n",
              "      <td>436.7600</td>\n",
              "    </tr>\n",
              "    <tr>\n",
              "      <th>1</th>\n",
              "      <td>10</td>\n",
              "      <td>Acer</td>\n",
              "      <td>Swift 3</td>\n",
              "      <td>Ultrabook</td>\n",
              "      <td>14.0</td>\n",
              "      <td>IPS Panel Full HD 1920x1080</td>\n",
              "      <td>Intel Core i5 8250U 1.6GHz</td>\n",
              "      <td>8GB</td>\n",
              "      <td>256GB SSD</td>\n",
              "      <td>Intel UHD Graphics 620</td>\n",
              "      <td>Windows 10</td>\n",
              "      <td>1.6kg</td>\n",
              "      <td>770.0</td>\n",
              "      <td>840.7630</td>\n",
              "    </tr>\n",
              "    <tr>\n",
              "      <th>2</th>\n",
              "      <td>37</td>\n",
              "      <td>Acer</td>\n",
              "      <td>Aspire 3</td>\n",
              "      <td>Notebook</td>\n",
              "      <td>15.6</td>\n",
              "      <td>1366x768</td>\n",
              "      <td>Intel Core i3 7130U 2.7GHz</td>\n",
              "      <td>4GB</td>\n",
              "      <td>1TB HDD</td>\n",
              "      <td>Intel HD Graphics 620</td>\n",
              "      <td>Linux</td>\n",
              "      <td>2.1kg</td>\n",
              "      <td>367.0</td>\n",
              "      <td>400.7273</td>\n",
              "    </tr>\n",
              "    <tr>\n",
              "      <th>3</th>\n",
              "      <td>44</td>\n",
              "      <td>Acer</td>\n",
              "      <td>Aspire A515-51G</td>\n",
              "      <td>Notebook</td>\n",
              "      <td>15.6</td>\n",
              "      <td>IPS Panel Full HD 1920x1080</td>\n",
              "      <td>Intel Core i5 8250U 1.6GHz</td>\n",
              "      <td>4GB</td>\n",
              "      <td>256GB SSD</td>\n",
              "      <td>Intel UHD Graphics 620</td>\n",
              "      <td>Windows 10</td>\n",
              "      <td>2.2kg</td>\n",
              "      <td>682.0</td>\n",
              "      <td>744.6758</td>\n",
              "    </tr>\n",
              "    <tr>\n",
              "      <th>4</th>\n",
              "      <td>52</td>\n",
              "      <td>Acer</td>\n",
              "      <td>Aspire A515-51G</td>\n",
              "      <td>Notebook</td>\n",
              "      <td>15.6</td>\n",
              "      <td>IPS Panel Full HD 1920x1080</td>\n",
              "      <td>Intel Core i7 8550U 1.8GHz</td>\n",
              "      <td>8GB</td>\n",
              "      <td>256GB SSD</td>\n",
              "      <td>Nvidia GeForce MX150</td>\n",
              "      <td>Windows 10</td>\n",
              "      <td>2.2kg</td>\n",
              "      <td>841.0</td>\n",
              "      <td>918.2879</td>\n",
              "    </tr>\n",
              "  </tbody>\n",
              "</table>\n",
              "</div>\n",
              "    <div class=\"colab-df-buttons\">\n",
              "\n",
              "  <div class=\"colab-df-container\">\n",
              "    <button class=\"colab-df-convert\" onclick=\"convertToInteractive('df-adef5c98-745a-4e62-b393-c17ab6c14ba4')\"\n",
              "            title=\"Convert this dataframe to an interactive table.\"\n",
              "            style=\"display:none;\">\n",
              "\n",
              "  <svg xmlns=\"http://www.w3.org/2000/svg\" height=\"24px\" viewBox=\"0 -960 960 960\">\n",
              "    <path d=\"M120-120v-720h720v720H120Zm60-500h600v-160H180v160Zm220 220h160v-160H400v160Zm0 220h160v-160H400v160ZM180-400h160v-160H180v160Zm440 0h160v-160H620v160ZM180-180h160v-160H180v160Zm440 0h160v-160H620v160Z\"/>\n",
              "  </svg>\n",
              "    </button>\n",
              "\n",
              "  <style>\n",
              "    .colab-df-container {\n",
              "      display:flex;\n",
              "      gap: 12px;\n",
              "    }\n",
              "\n",
              "    .colab-df-convert {\n",
              "      background-color: #E8F0FE;\n",
              "      border: none;\n",
              "      border-radius: 50%;\n",
              "      cursor: pointer;\n",
              "      display: none;\n",
              "      fill: #1967D2;\n",
              "      height: 32px;\n",
              "      padding: 0 0 0 0;\n",
              "      width: 32px;\n",
              "    }\n",
              "\n",
              "    .colab-df-convert:hover {\n",
              "      background-color: #E2EBFA;\n",
              "      box-shadow: 0px 1px 2px rgba(60, 64, 67, 0.3), 0px 1px 3px 1px rgba(60, 64, 67, 0.15);\n",
              "      fill: #174EA6;\n",
              "    }\n",
              "\n",
              "    .colab-df-buttons div {\n",
              "      margin-bottom: 4px;\n",
              "    }\n",
              "\n",
              "    [theme=dark] .colab-df-convert {\n",
              "      background-color: #3B4455;\n",
              "      fill: #D2E3FC;\n",
              "    }\n",
              "\n",
              "    [theme=dark] .colab-df-convert:hover {\n",
              "      background-color: #434B5C;\n",
              "      box-shadow: 0px 1px 3px 1px rgba(0, 0, 0, 0.15);\n",
              "      filter: drop-shadow(0px 1px 2px rgba(0, 0, 0, 0.3));\n",
              "      fill: #FFFFFF;\n",
              "    }\n",
              "  </style>\n",
              "\n",
              "    <script>\n",
              "      const buttonEl =\n",
              "        document.querySelector('#df-adef5c98-745a-4e62-b393-c17ab6c14ba4 button.colab-df-convert');\n",
              "      buttonEl.style.display =\n",
              "        google.colab.kernel.accessAllowed ? 'block' : 'none';\n",
              "\n",
              "      async function convertToInteractive(key) {\n",
              "        const element = document.querySelector('#df-adef5c98-745a-4e62-b393-c17ab6c14ba4');\n",
              "        const dataTable =\n",
              "          await google.colab.kernel.invokeFunction('convertToInteractive',\n",
              "                                                    [key], {});\n",
              "        if (!dataTable) return;\n",
              "\n",
              "        const docLinkHtml = 'Like what you see? Visit the ' +\n",
              "          '<a target=\"_blank\" href=https://colab.research.google.com/notebooks/data_table.ipynb>data table notebook</a>'\n",
              "          + ' to learn more about interactive tables.';\n",
              "        element.innerHTML = '';\n",
              "        dataTable['output_type'] = 'display_data';\n",
              "        await google.colab.output.renderOutput(dataTable, element);\n",
              "        const docLink = document.createElement('div');\n",
              "        docLink.innerHTML = docLinkHtml;\n",
              "        element.appendChild(docLink);\n",
              "      }\n",
              "    </script>\n",
              "  </div>\n",
              "\n",
              "\n",
              "    <div id=\"df-1da21855-b054-48ba-97d1-af6be834729b\">\n",
              "      <button class=\"colab-df-quickchart\" onclick=\"quickchart('df-1da21855-b054-48ba-97d1-af6be834729b')\"\n",
              "                title=\"Suggest charts\"\n",
              "                style=\"display:none;\">\n",
              "\n",
              "<svg xmlns=\"http://www.w3.org/2000/svg\" height=\"24px\"viewBox=\"0 0 24 24\"\n",
              "     width=\"24px\">\n",
              "    <g>\n",
              "        <path d=\"M19 3H5c-1.1 0-2 .9-2 2v14c0 1.1.9 2 2 2h14c1.1 0 2-.9 2-2V5c0-1.1-.9-2-2-2zM9 17H7v-7h2v7zm4 0h-2V7h2v10zm4 0h-2v-4h2v4z\"/>\n",
              "    </g>\n",
              "</svg>\n",
              "      </button>\n",
              "\n",
              "<style>\n",
              "  .colab-df-quickchart {\n",
              "      --bg-color: #E8F0FE;\n",
              "      --fill-color: #1967D2;\n",
              "      --hover-bg-color: #E2EBFA;\n",
              "      --hover-fill-color: #174EA6;\n",
              "      --disabled-fill-color: #AAA;\n",
              "      --disabled-bg-color: #DDD;\n",
              "  }\n",
              "\n",
              "  [theme=dark] .colab-df-quickchart {\n",
              "      --bg-color: #3B4455;\n",
              "      --fill-color: #D2E3FC;\n",
              "      --hover-bg-color: #434B5C;\n",
              "      --hover-fill-color: #FFFFFF;\n",
              "      --disabled-bg-color: #3B4455;\n",
              "      --disabled-fill-color: #666;\n",
              "  }\n",
              "\n",
              "  .colab-df-quickchart {\n",
              "    background-color: var(--bg-color);\n",
              "    border: none;\n",
              "    border-radius: 50%;\n",
              "    cursor: pointer;\n",
              "    display: none;\n",
              "    fill: var(--fill-color);\n",
              "    height: 32px;\n",
              "    padding: 0;\n",
              "    width: 32px;\n",
              "  }\n",
              "\n",
              "  .colab-df-quickchart:hover {\n",
              "    background-color: var(--hover-bg-color);\n",
              "    box-shadow: 0 1px 2px rgba(60, 64, 67, 0.3), 0 1px 3px 1px rgba(60, 64, 67, 0.15);\n",
              "    fill: var(--button-hover-fill-color);\n",
              "  }\n",
              "\n",
              "  .colab-df-quickchart-complete:disabled,\n",
              "  .colab-df-quickchart-complete:disabled:hover {\n",
              "    background-color: var(--disabled-bg-color);\n",
              "    fill: var(--disabled-fill-color);\n",
              "    box-shadow: none;\n",
              "  }\n",
              "\n",
              "  .colab-df-spinner {\n",
              "    border: 2px solid var(--fill-color);\n",
              "    border-color: transparent;\n",
              "    border-bottom-color: var(--fill-color);\n",
              "    animation:\n",
              "      spin 1s steps(1) infinite;\n",
              "  }\n",
              "\n",
              "  @keyframes spin {\n",
              "    0% {\n",
              "      border-color: transparent;\n",
              "      border-bottom-color: var(--fill-color);\n",
              "      border-left-color: var(--fill-color);\n",
              "    }\n",
              "    20% {\n",
              "      border-color: transparent;\n",
              "      border-left-color: var(--fill-color);\n",
              "      border-top-color: var(--fill-color);\n",
              "    }\n",
              "    30% {\n",
              "      border-color: transparent;\n",
              "      border-left-color: var(--fill-color);\n",
              "      border-top-color: var(--fill-color);\n",
              "      border-right-color: var(--fill-color);\n",
              "    }\n",
              "    40% {\n",
              "      border-color: transparent;\n",
              "      border-right-color: var(--fill-color);\n",
              "      border-top-color: var(--fill-color);\n",
              "    }\n",
              "    60% {\n",
              "      border-color: transparent;\n",
              "      border-right-color: var(--fill-color);\n",
              "    }\n",
              "    80% {\n",
              "      border-color: transparent;\n",
              "      border-right-color: var(--fill-color);\n",
              "      border-bottom-color: var(--fill-color);\n",
              "    }\n",
              "    90% {\n",
              "      border-color: transparent;\n",
              "      border-bottom-color: var(--fill-color);\n",
              "    }\n",
              "  }\n",
              "</style>\n",
              "\n",
              "      <script>\n",
              "        async function quickchart(key) {\n",
              "          const quickchartButtonEl =\n",
              "            document.querySelector('#' + key + ' button');\n",
              "          quickchartButtonEl.disabled = true;  // To prevent multiple clicks.\n",
              "          quickchartButtonEl.classList.add('colab-df-spinner');\n",
              "          try {\n",
              "            const charts = await google.colab.kernel.invokeFunction(\n",
              "                'suggestCharts', [key], {});\n",
              "          } catch (error) {\n",
              "            console.error('Error during call to suggestCharts:', error);\n",
              "          }\n",
              "          quickchartButtonEl.classList.remove('colab-df-spinner');\n",
              "          quickchartButtonEl.classList.add('colab-df-quickchart-complete');\n",
              "        }\n",
              "        (() => {\n",
              "          let quickchartButtonEl =\n",
              "            document.querySelector('#df-1da21855-b054-48ba-97d1-af6be834729b button');\n",
              "          quickchartButtonEl.style.display =\n",
              "            google.colab.kernel.accessAllowed ? 'block' : 'none';\n",
              "        })();\n",
              "      </script>\n",
              "    </div>\n",
              "\n",
              "    </div>\n",
              "  </div>\n"
            ],
            "application/vnd.google.colaboratory.intrinsic+json": {
              "type": "dataframe",
              "variable_name": "data",
              "summary": "{\n  \"name\": \"data\",\n  \"rows\": 1303,\n  \"fields\": [\n    {\n      \"column\": \"laptop_ID\",\n      \"properties\": {\n        \"dtype\": \"number\",\n        \"std\": 381,\n        \"min\": 1,\n        \"max\": 1320,\n        \"num_unique_values\": 1303,\n        \"samples\": [\n          844,\n          697,\n          61\n        ],\n        \"semantic_type\": \"\",\n        \"description\": \"\"\n      }\n    },\n    {\n      \"column\": \"Company\",\n      \"properties\": {\n        \"dtype\": \"category\",\n        \"num_unique_values\": 19,\n        \"samples\": [\n          \"Acer\",\n          \"Fujitsu\",\n          \"Mediacom\"\n        ],\n        \"semantic_type\": \"\",\n        \"description\": \"\"\n      }\n    },\n    {\n      \"column\": \"Product\",\n      \"properties\": {\n        \"dtype\": \"category\",\n        \"num_unique_values\": 618,\n        \"samples\": [\n          \"Chromebook 15\",\n          \"Portege X30-D-10L\",\n          \"X541NA (N3350/4GB/1TB/FHD/W10)\"\n        ],\n        \"semantic_type\": \"\",\n        \"description\": \"\"\n      }\n    },\n    {\n      \"column\": \"TypeName\",\n      \"properties\": {\n        \"dtype\": \"category\",\n        \"num_unique_values\": 6,\n        \"samples\": [\n          \"Notebook\",\n          \"Ultrabook\",\n          \"Workstation\"\n        ],\n        \"semantic_type\": \"\",\n        \"description\": \"\"\n      }\n    },\n    {\n      \"column\": \"Inches\",\n      \"properties\": {\n        \"dtype\": \"number\",\n        \"std\": 1.4263040545691654,\n        \"min\": 10.1,\n        \"max\": 18.4,\n        \"num_unique_values\": 18,\n        \"samples\": [\n          15.6,\n          14.0,\n          14.1\n        ],\n        \"semantic_type\": \"\",\n        \"description\": \"\"\n      }\n    },\n    {\n      \"column\": \"ScreenResolution\",\n      \"properties\": {\n        \"dtype\": \"category\",\n        \"num_unique_values\": 40,\n        \"samples\": [\n          \"IPS Panel Retina Display 2736x1824\",\n          \"Touchscreen / Full HD 1920x1080\",\n          \"1920x1080\"\n        ],\n        \"semantic_type\": \"\",\n        \"description\": \"\"\n      }\n    },\n    {\n      \"column\": \"Cpu\",\n      \"properties\": {\n        \"dtype\": \"category\",\n        \"num_unique_values\": 118,\n        \"samples\": [\n          \"Intel Pentium Dual Core N4200 1.1GHz\",\n          \"Intel Core i5 7200U 2.50GHz\",\n          \"Intel Core i3 7100U 2.4GHz\"\n        ],\n        \"semantic_type\": \"\",\n        \"description\": \"\"\n      }\n    },\n    {\n      \"column\": \"Ram\",\n      \"properties\": {\n        \"dtype\": \"category\",\n        \"num_unique_values\": 9,\n        \"samples\": [\n          \"24GB\",\n          \"8GB\",\n          \"16GB\"\n        ],\n        \"semantic_type\": \"\",\n        \"description\": \"\"\n      }\n    },\n    {\n      \"column\": \"Memory\",\n      \"properties\": {\n        \"dtype\": \"category\",\n        \"num_unique_values\": 39,\n        \"samples\": [\n          \"1TB HDD +  1TB HDD\",\n          \"512GB SSD +  1.0TB Hybrid\",\n          \"16GB SSD\"\n        ],\n        \"semantic_type\": \"\",\n        \"description\": \"\"\n      }\n    },\n    {\n      \"column\": \"Gpu\",\n      \"properties\": {\n        \"dtype\": \"category\",\n        \"num_unique_values\": 110,\n        \"samples\": [\n          \"Nvidia Quadro M2000M\",\n          \"Nvidia GeForce GTX 1050\",\n          \"Intel HD Graphics 520\"\n        ],\n        \"semantic_type\": \"\",\n        \"description\": \"\"\n      }\n    },\n    {\n      \"column\": \"OpSys\",\n      \"properties\": {\n        \"dtype\": \"category\",\n        \"num_unique_values\": 9,\n        \"samples\": [\n          \"Windows 7\",\n          \"Linux\",\n          \"Windows 10 S\"\n        ],\n        \"semantic_type\": \"\",\n        \"description\": \"\"\n      }\n    },\n    {\n      \"column\": \"Weight\",\n      \"properties\": {\n        \"dtype\": \"category\",\n        \"num_unique_values\": 179,\n        \"samples\": [\n          \"2.16kg\",\n          \"1.68kg\",\n          \"2.591kg\"\n        ],\n        \"semantic_type\": \"\",\n        \"description\": \"\"\n      }\n    },\n    {\n      \"column\": \"Price_euros\",\n      \"properties\": {\n        \"dtype\": \"number\",\n        \"std\": 699.0090425337411,\n        \"min\": 174.0,\n        \"max\": 6099.0,\n        \"num_unique_values\": 791,\n        \"samples\": [\n          728.0,\n          879.0,\n          789.81\n        ],\n        \"semantic_type\": \"\",\n        \"description\": \"\"\n      }\n    },\n    {\n      \"column\": \"Price_usd\",\n      \"properties\": {\n        \"dtype\": \"number\",\n        \"std\": 763.247973542592,\n        \"min\": 189.9906,\n        \"max\": 6659.4981,\n        \"num_unique_values\": 791,\n        \"samples\": [\n          794.9032,\n          959.7801,\n          862.393539\n        ],\n        \"semantic_type\": \"\",\n        \"description\": \"\"\n      }\n    }\n  ]\n}"
            }
          },
          "metadata": {},
          "execution_count": 75
        }
      ],
      "source": [
        "import pandas as pd\n",
        "from sklearn.model_selection import train_test_split\n",
        "from sklearn.preprocessing import StandardScaler, OneHotEncoder\n",
        "from sklearn.compose import ColumnTransformer\n",
        "from sklearn.linear_model import LinearRegression\n",
        "from sklearn.metrics import accuracy_score\n",
        "from sklearn.impute import SimpleImputer\n",
        "from sklearn.pipeline import Pipeline\n",
        "from sklearn.metrics import f1_score\n",
        "\n",
        "data = pd.read_csv(\"laptop_price.csv\", encoding='latin-1')\n",
        "data.head()"
      ]
    },
    {
      "cell_type": "code",
      "source": [
        "data['target'] = (data['Price_usd']).astype(int)\n",
        "del data['Price_usd']"
      ],
      "metadata": {
        "id": "bIlG75w0l1Y_"
      },
      "execution_count": 76,
      "outputs": []
    },
    {
      "cell_type": "code",
      "metadata": {
        "colab": {
          "base_uri": "https://localhost:8080/"
        },
        "id": "49302813",
        "outputId": "10df48b1-cbca-4e7d-949a-f4d583540826"
      },
      "source": [
        "categorical_columns = data.select_dtypes(include='object').columns.tolist()\n",
        "print(categorical_columns)"
      ],
      "execution_count": 77,
      "outputs": [
        {
          "output_type": "stream",
          "name": "stdout",
          "text": [
            "['Company', 'Product', 'TypeName', 'ScreenResolution', 'Cpu', 'Ram', 'Memory', 'Gpu', 'OpSys', 'Weight']\n"
          ]
        }
      ]
    },
    {
      "cell_type": "markdown",
      "source": [
        "The following is to one-hot encode the categorical features through a pipeline."
      ],
      "metadata": {
        "id": "HzBEFVG5Tolv"
      }
    },
    {
      "cell_type": "markdown",
      "source": [
        "This is to help set up the train test split."
      ],
      "metadata": {
        "id": "rn-VCLX4W7O7"
      }
    },
    {
      "cell_type": "code",
      "source": [
        "data_features = data.drop([\"target\", \"Price_euros\"], axis=1)"
      ],
      "metadata": {
        "id": "iQi6e8i5W6Zd"
      },
      "execution_count": 78,
      "outputs": []
    },
    {
      "cell_type": "markdown",
      "source": [
        "In order to solve the case of human error, we have imputed the median into any numeric feature that needs it. Also, for cat_feat, we are currently trying to figure out how to one-hot encode our categorical features in order to prepare for the matrix."
      ],
      "metadata": {
        "id": "Ws0S8dFqvn-E"
      }
    },
    {
      "cell_type": "code",
      "source": [
        "numfeat = [\"Inches\"]\n",
        "catfeat = [\"Company\", \"Product\", \"TypeName\", \"ScreenResolution\", \"Cpu\", \"Ram\", \"Memory\", \"Gpu\", \"OpSys\", \"Weight\"]\n",
        "\n",
        "num_pipeline = Pipeline([(\"imputer\", SimpleImputer(strategy=\"median\")), (\"scaler\", StandardScaler())])\n",
        "\n",
        "cat_pipeline = Pipeline([(\"onehot\", OneHotEncoder(handle_unknown=\"ignore\"))])\n",
        "\n",
        "full_pipeline = ColumnTransformer([(\"num\", num_pipeline, numfeat), (\"cat\", cat_pipeline, catfeat)])"
      ],
      "metadata": {
        "id": "PpeIr9tVSbOL"
      },
      "execution_count": 79,
      "outputs": []
    },
    {
      "cell_type": "markdown",
      "source": [
        "We are now checking to see which company's mean price for all laptops on the market are the most expensive and the most cheap."
      ],
      "metadata": {
        "id": "-YUszsS_t4iI"
      }
    },
    {
      "cell_type": "code",
      "source": [
        "data.groupby(\"Company\")[\"target\"].mean().sort_values(ascending=False)"
      ],
      "metadata": {
        "colab": {
          "base_uri": "https://localhost:8080/",
          "height": 711
        },
        "id": "12ZCTaBKnCfz",
        "outputId": "62f0f80a-79a4-4498-a38f-e9b4fb9ef36c"
      },
      "execution_count": 80,
      "outputs": [
        {
          "output_type": "execute_result",
          "data": {
            "text/plain": [
              "Company\n",
              "Razer        3653.142857\n",
              "LG           2291.333333\n",
              "MSI          1887.277778\n",
              "Google       1831.666667\n",
              "Microsoft    1760.000000\n",
              "Apple        1707.428571\n",
              "Huawei       1554.000000\n",
              "Samsung      1542.777778\n",
              "Toshiba      1383.812500\n",
              "Dell         1294.535354\n",
              "Xiaomi       1237.000000\n",
              "Asus         1205.145570\n",
              "Lenovo       1185.683502\n",
              "HP           1165.401460\n",
              "Fujitsu       795.333333\n",
              "Acer          683.834951\n",
              "Chuwi         342.666667\n",
              "Mediacom      321.428571\n",
              "Vero          237.000000\n",
              "Name: target, dtype: float64"
            ],
            "text/html": [
              "<div>\n",
              "<style scoped>\n",
              "    .dataframe tbody tr th:only-of-type {\n",
              "        vertical-align: middle;\n",
              "    }\n",
              "\n",
              "    .dataframe tbody tr th {\n",
              "        vertical-align: top;\n",
              "    }\n",
              "\n",
              "    .dataframe thead th {\n",
              "        text-align: right;\n",
              "    }\n",
              "</style>\n",
              "<table border=\"1\" class=\"dataframe\">\n",
              "  <thead>\n",
              "    <tr style=\"text-align: right;\">\n",
              "      <th></th>\n",
              "      <th>target</th>\n",
              "    </tr>\n",
              "    <tr>\n",
              "      <th>Company</th>\n",
              "      <th></th>\n",
              "    </tr>\n",
              "  </thead>\n",
              "  <tbody>\n",
              "    <tr>\n",
              "      <th>Razer</th>\n",
              "      <td>3653.142857</td>\n",
              "    </tr>\n",
              "    <tr>\n",
              "      <th>LG</th>\n",
              "      <td>2291.333333</td>\n",
              "    </tr>\n",
              "    <tr>\n",
              "      <th>MSI</th>\n",
              "      <td>1887.277778</td>\n",
              "    </tr>\n",
              "    <tr>\n",
              "      <th>Google</th>\n",
              "      <td>1831.666667</td>\n",
              "    </tr>\n",
              "    <tr>\n",
              "      <th>Microsoft</th>\n",
              "      <td>1760.000000</td>\n",
              "    </tr>\n",
              "    <tr>\n",
              "      <th>Apple</th>\n",
              "      <td>1707.428571</td>\n",
              "    </tr>\n",
              "    <tr>\n",
              "      <th>Huawei</th>\n",
              "      <td>1554.000000</td>\n",
              "    </tr>\n",
              "    <tr>\n",
              "      <th>Samsung</th>\n",
              "      <td>1542.777778</td>\n",
              "    </tr>\n",
              "    <tr>\n",
              "      <th>Toshiba</th>\n",
              "      <td>1383.812500</td>\n",
              "    </tr>\n",
              "    <tr>\n",
              "      <th>Dell</th>\n",
              "      <td>1294.535354</td>\n",
              "    </tr>\n",
              "    <tr>\n",
              "      <th>Xiaomi</th>\n",
              "      <td>1237.000000</td>\n",
              "    </tr>\n",
              "    <tr>\n",
              "      <th>Asus</th>\n",
              "      <td>1205.145570</td>\n",
              "    </tr>\n",
              "    <tr>\n",
              "      <th>Lenovo</th>\n",
              "      <td>1185.683502</td>\n",
              "    </tr>\n",
              "    <tr>\n",
              "      <th>HP</th>\n",
              "      <td>1165.401460</td>\n",
              "    </tr>\n",
              "    <tr>\n",
              "      <th>Fujitsu</th>\n",
              "      <td>795.333333</td>\n",
              "    </tr>\n",
              "    <tr>\n",
              "      <th>Acer</th>\n",
              "      <td>683.834951</td>\n",
              "    </tr>\n",
              "    <tr>\n",
              "      <th>Chuwi</th>\n",
              "      <td>342.666667</td>\n",
              "    </tr>\n",
              "    <tr>\n",
              "      <th>Mediacom</th>\n",
              "      <td>321.428571</td>\n",
              "    </tr>\n",
              "    <tr>\n",
              "      <th>Vero</th>\n",
              "      <td>237.000000</td>\n",
              "    </tr>\n",
              "  </tbody>\n",
              "</table>\n",
              "</div><br><label><b>dtype:</b> float64</label>"
            ]
          },
          "metadata": {},
          "execution_count": 80
        }
      ]
    },
    {
      "cell_type": "markdown",
      "source": [
        "Now we will need to use a correlation matrix to see which values we want to drop (Which are irrelevant?)"
      ],
      "metadata": {
        "id": "9-GQ6xrtmrer"
      }
    },
    {
      "cell_type": "code",
      "metadata": {
        "colab": {
          "base_uri": "https://localhost:8080/",
          "height": 52
        },
        "id": "9eb0e1e8",
        "outputId": "fc75c349-93b0-4daf-ca68-a3ac29dbf4f4"
      },
      "source": [
        "datafeatpp = full_pipeline.fit_transform(data_features)\n",
        "display(datafeatpp)"
      ],
      "execution_count": 81,
      "outputs": [
        {
          "output_type": "display_data",
          "data": {
            "text/plain": [
              "<Compressed Sparse Row sparse matrix of dtype 'float64'\n",
              "\twith 14333 stored elements and shape (1303, 1148)>"
            ]
          },
          "metadata": {}
        }
      ]
    },
    {
      "cell_type": "code",
      "metadata": {
        "colab": {
          "base_uri": "https://localhost:8080/"
        },
        "id": "ae4fb123",
        "outputId": "958daa58-9072-4dc1-c2a7-dee4bcf1dbb9"
      },
      "source": [
        "from sklearn.linear_model import LinearRegression\n",
        "from sklearn.metrics import r2_score\n",
        "from sklearn.model_selection import train_test_split\n",
        "\n",
        "x = datafeatpp\n",
        "y = data[\"target\"].values\n",
        "\n",
        "xtrain, xtest, ytrain, ytest = train_test_split(x, y, test_size=0.2, random_state=42)\n",
        "\n",
        "model = LinearRegression()\n",
        "model.fit(xtrain, ytrain)\n",
        "\n",
        "print(f\"R-squared score: {r2_score(ytest, model.predict(xtest)):.2f}\")"
      ],
      "execution_count": 82,
      "outputs": [
        {
          "output_type": "stream",
          "name": "stdout",
          "text": [
            "R-squared score: 0.76\n"
          ]
        }
      ]
    },
    {
      "cell_type": "code",
      "source": [
        "corr_matrix = datafeatpp.corr(numeric_only = False)"
      ],
      "metadata": {
        "colab": {
          "base_uri": "https://localhost:8080/",
          "height": 141
        },
        "id": "Y0RXP5VXzLYV",
        "outputId": "803f88f7-1762-4121-ff5f-aed912a53c0e"
      },
      "execution_count": 86,
      "outputs": [
        {
          "output_type": "error",
          "ename": "AttributeError",
          "evalue": "'csr_matrix' object has no attribute 'corr'",
          "traceback": [
            "\u001b[0;31m---------------------------------------------------------------------------\u001b[0m",
            "\u001b[0;31mAttributeError\u001b[0m                            Traceback (most recent call last)",
            "\u001b[0;32m/tmp/ipython-input-86-891012217.py\u001b[0m in \u001b[0;36m<cell line: 0>\u001b[0;34m()\u001b[0m\n\u001b[0;32m----> 1\u001b[0;31m \u001b[0mcorr_matrix\u001b[0m \u001b[0;34m=\u001b[0m \u001b[0mdatafeatpp\u001b[0m\u001b[0;34m.\u001b[0m\u001b[0mcorr\u001b[0m\u001b[0;34m(\u001b[0m\u001b[0mnumeric_only\u001b[0m \u001b[0;34m=\u001b[0m \u001b[0;32mFalse\u001b[0m\u001b[0;34m)\u001b[0m\u001b[0;34m\u001b[0m\u001b[0;34m\u001b[0m\u001b[0m\n\u001b[0m",
            "\u001b[0;31mAttributeError\u001b[0m: 'csr_matrix' object has no attribute 'corr'"
          ]
        }
      ]
    }
  ]
}